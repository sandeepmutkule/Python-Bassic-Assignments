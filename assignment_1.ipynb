{
 "cells": [
  {
   "cell_type": "markdown",
   "metadata": {},
   "source": [
    "#### Q.1 answer"
   ]
  },
  {
   "cell_type": "markdown",
   "metadata": {},
   "source": [
    "1. (*) ---is the expression used for the multiplication.\n",
    "2. ('hello') --- is the value and it is string, string values are considered as text values & are given in single or double quotes.\n",
    "3. (-87.9) --- is also a value and it is float, decimal numbers values are known as float.\n",
    "4. (-) ---is the expression used for substraction.\n",
    "5. (/) ---is also a expression used for the division.\n",
    "6. (+) ---is also a expression used for the addition.\n",
    "7. (6) ---is the value known as integer, numbers without decimal point are konwn as integers."
   ]
  },
  {
   "cell_type": "markdown",
   "metadata": {},
   "source": [
    "#### Q.2 answer"
   ]
  },
  {
   "cell_type": "markdown",
   "metadata": {},
   "source": [
    "Difference between string and variable\n",
    "\n",
    "1. String- The values which are stored in single or double quotes are considered as the string values. For e.g. \"hello\", \"25\", \"Sudhkumar\", etc. We can say that string is type of variable.\n",
    "\n",
    "2. Variable - Variable is a any measurable characteristics or atrribute that differs. For e.g. If we want to find the average 'Height' of the student any class, then \"Height\" is the variable that contains the values. I simple words varaibles are used to store the values that can be string, integer, float, etc."
   ]
  },
  {
   "cell_type": "markdown",
   "metadata": {},
   "source": [
    "#### Q.3 answer"
   ]
  },
  {
   "cell_type": "markdown",
   "metadata": {},
   "source": [
    "Data types\n",
    "1. Nominal - \n",
    "2. Ordinal -\n",
    "3. Interval -\n",
    "4. Ratio -\n",
    "\n",
    "Different data types in Python\n",
    "1. String\n",
    "2. Float\n",
    "3. Integers\n",
    "4. Boolean values"
   ]
  },
  {
   "cell_type": "markdown",
   "metadata": {},
   "source": [
    "#### Q.4 answer"
   ]
  },
  {
   "cell_type": "markdown",
   "metadata": {},
   "source": [
    "Expressions are used to evaluate something from the data. e.g. 25 + 78, 78/12, etc\n",
    "Expressions are made of using the mathematical operators like addition(+),substraction(-),divison(/), multiplication(*),modulo(%), and, or, etc. for e.g. we have two values val_1 and val_2 then val_1 + value_2 - ( 2 * value_1) is the expression \n",
    "Expressions are also represntation of values.\n",
    "expressions are made using values, operations, variables, etc."
   ]
  },
  {
   "cell_type": "code",
   "execution_count": null,
   "metadata": {},
   "outputs": [],
   "source": [
    "val_1=10\n",
    "val_2=20\n",
    "val_3 = val_1 + val_2 - 2 * val_1 # This is an expression \n",
    "val_3\n",
    "# All expressions are used to represents some values. It can be true or false also."
   ]
  },
  {
   "cell_type": "markdown",
   "metadata": {},
   "source": [
    "#### Q.5 "
   ]
  },
  {
   "cell_type": "markdown",
   "metadata": {},
   "source": [
    "##### Expressions"
   ]
  },
  {
   "cell_type": "markdown",
   "metadata": {},
   "source": [
    "1. Expressions are used to represent the values or to evaluate something. it always gives some value. for e.g. 47-29, 99 * 8, 78 + 12 - 36, etc.\n",
    "2. It is the combination of values, variables, operators. "
   ]
  },
  {
   "cell_type": "markdown",
   "metadata": {},
   "source": [
    "##### Statements"
   ]
  },
  {
   "cell_type": "markdown",
   "metadata": {},
   "source": [
    "1. Statements are made to express something, like print() is the statement. It is also used to give the command. It can not give any value. Loop is one of example of statement.\n",
    "2. Statements are used to do somthing that we want."
   ]
  },
  {
   "cell_type": "markdown",
   "metadata": {},
   "source": [
    "#### Q.6"
   ]
  },
  {
   "cell_type": "markdown",
   "metadata": {},
   "source": [
    "1. bacon=22\n",
    "2. bacon +1\n",
    "3. After runnig this code we will get the output 23."
   ]
  },
  {
   "cell_type": "markdown",
   "metadata": {},
   "source": [
    "#### Q.7"
   ]
  },
  {
   "cell_type": "markdown",
   "metadata": {},
   "source": [
    "1. 'spam' + 'spamspam' &\n",
    "2. 'spam'*3\n",
    "3. These two codes gives the same results that is, 'spamspammspam'"
   ]
  },
  {
   "cell_type": "markdown",
   "metadata": {},
   "source": [
    "#### Q.8"
   ]
  },
  {
   "cell_type": "markdown",
   "metadata": {},
   "source": [
    "Here eggs is string or name whereas the 100 is the number, Python has ability to understand the data types. And we can not use number of integer as variable. Thats why python can not assign 100 as a varaiable. Giiven as,"
   ]
  },
  {
   "cell_type": "code",
   "execution_count": 16,
   "metadata": {},
   "outputs": [],
   "source": [
    "eggs=1"
   ]
  },
  {
   "cell_type": "code",
   "execution_count": 18,
   "metadata": {},
   "outputs": [
    {
     "ename": "SyntaxError",
     "evalue": "cannot assign to literal (<ipython-input-18-8cee82e2326f>, line 1)",
     "output_type": "error",
     "traceback": [
      "\u001b[1;36m  File \u001b[1;32m\"<ipython-input-18-8cee82e2326f>\"\u001b[1;36m, line \u001b[1;32m1\u001b[0m\n\u001b[1;33m    100=12\u001b[0m\n\u001b[1;37m    ^\u001b[0m\n\u001b[1;31mSyntaxError\u001b[0m\u001b[1;31m:\u001b[0m cannot assign to literal\n"
     ]
    }
   ],
   "source": [
    "100=12"
   ]
  },
  {
   "cell_type": "markdown",
   "metadata": {},
   "source": [
    "#### Q.9"
   ]
  },
  {
   "cell_type": "markdown",
   "metadata": {},
   "source": [
    "1. int() -is used to get the integer value.\n",
    "2. float() -is used to get floatinng numbers.\n",
    "3. str() -is used to get the string values.\n",
    "4. We can use it as,"
   ]
  },
  {
   "cell_type": "code",
   "execution_count": 34,
   "metadata": {},
   "outputs": [
    {
     "data": {
      "text/plain": [
       "(1254, 1254.0, '1254')"
      ]
     },
     "execution_count": 34,
     "metadata": {},
     "output_type": "execute_result"
    }
   ],
   "source": [
    "# for e.g.\n",
    "val=1254\n",
    "int(val),float(val),str(val)"
   ]
  },
  {
   "cell_type": "markdown",
   "metadata": {},
   "source": [
    "#### Q.10"
   ]
  },
  {
   "cell_type": "code",
   "execution_count": 24,
   "metadata": {},
   "outputs": [
    {
     "ename": "TypeError",
     "evalue": "can only concatenate str (not \"int\") to str",
     "output_type": "error",
     "traceback": [
      "\u001b[1;31m---------------------------------------------------------------------------\u001b[0m",
      "\u001b[1;31mTypeError\u001b[0m                                 Traceback (most recent call last)",
      "\u001b[1;32m<ipython-input-24-9230c793b9b6>\u001b[0m in \u001b[0;36m<module>\u001b[1;34m\u001b[0m\n\u001b[1;32m----> 1\u001b[1;33m \u001b[1;34m'I have eaten'\u001b[0m \u001b[1;33m+\u001b[0m \u001b[1;36m99\u001b[0m \u001b[1;33m+\u001b[0m \u001b[1;34m'burritos'\u001b[0m\u001b[1;33m\u001b[0m\u001b[1;33m\u001b[0m\u001b[0m\n\u001b[0m",
      "\u001b[1;31mTypeError\u001b[0m: can only concatenate str (not \"int\") to str"
     ]
    }
   ],
   "source": [
    "'I have eaten' + 99 + 'burritos'"
   ]
  },
  {
   "cell_type": "markdown",
   "metadata": {},
   "source": [
    "1. 'I have eaten' + 99 + 'burritos'\n",
    "2. In the given code 'I have eaten' and 'burritos' are the strings and 99 is an integer, so python can not add string and integer together.If we want add this we have to convert this 99 to string and then it is possible to run the given code.\n",
    "3. e.g."
   ]
  },
  {
   "cell_type": "code",
   "execution_count": 30,
   "metadata": {},
   "outputs": [
    {
     "data": {
      "text/plain": [
       "'I have eaten99burritos'"
      ]
     },
     "execution_count": 30,
     "metadata": {},
     "output_type": "execute_result"
    }
   ],
   "source": [
    "# To make 99 as string add single or double quotes to it.\n",
    "'I have eaten' + '99' + 'burritos'"
   ]
  },
  {
   "cell_type": "code",
   "execution_count": 31,
   "metadata": {},
   "outputs": [
    {
     "data": {
      "text/plain": [
       "str"
      ]
     },
     "execution_count": 31,
     "metadata": {},
     "output_type": "execute_result"
    }
   ],
   "source": [
    "type('99') # it is string now"
   ]
  }
 ],
 "metadata": {
  "kernelspec": {
   "display_name": "Python 3",
   "language": "python",
   "name": "python3"
  },
  "language_info": {
   "codemirror_mode": {
    "name": "ipython",
    "version": 3
   },
   "file_extension": ".py",
   "mimetype": "text/x-python",
   "name": "python",
   "nbconvert_exporter": "python",
   "pygments_lexer": "ipython3",
   "version": "3.8.3"
  }
 },
 "nbformat": 4,
 "nbformat_minor": 4
}
