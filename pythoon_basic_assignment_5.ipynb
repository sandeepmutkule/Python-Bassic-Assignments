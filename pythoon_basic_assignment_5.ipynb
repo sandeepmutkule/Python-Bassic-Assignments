{
 "cells": [
  {
   "cell_type": "markdown",
   "id": "7b7883b8",
   "metadata": {},
   "source": [
    "### Python Basic assignments-5"
   ]
  },
  {
   "cell_type": "markdown",
   "id": "ce98b3c1",
   "metadata": {},
   "source": [
    "#### 1. What does an empty dictionary&#39;s code look like?"
   ]
  },
  {
   "cell_type": "code",
   "execution_count": 1,
   "id": "50f9705a",
   "metadata": {},
   "outputs": [
    {
     "data": {
      "text/plain": [
       "dict"
      ]
     },
     "execution_count": 1,
     "metadata": {},
     "output_type": "execute_result"
    }
   ],
   "source": [
    "# Code for the empty dictionary looks like as,\n",
    "dict1 = {}\n",
    "type(dict1)"
   ]
  },
  {
   "cell_type": "markdown",
   "id": "ddbc14f7",
   "metadata": {},
   "source": [
    "#### 2. What is the value of a dictionary value with the key &#39;foo&#39; and the value 42?"
   ]
  },
  {
   "cell_type": "markdown",
   "id": "e3df1b1d",
   "metadata": {},
   "source": [
    "The value of the dictionary with the key 'foo' and the value 42 is 42."
   ]
  },
  {
   "cell_type": "code",
   "execution_count": 5,
   "id": "7deb5395",
   "metadata": {},
   "outputs": [
    {
     "data": {
      "text/plain": [
       "dict_values([42])"
      ]
     },
     "execution_count": 5,
     "metadata": {},
     "output_type": "execute_result"
    }
   ],
   "source": [
    "dict1 = {'foo':42}\n",
    "dict1.values()"
   ]
  },
  {
   "cell_type": "markdown",
   "id": "c0a14627",
   "metadata": {},
   "source": [
    "#### 3. What is the most significant distinction between a dictionary and a list?"
   ]
  },
  {
   "cell_type": "markdown",
   "id": "b83e8c80",
   "metadata": {},
   "source": [
    "list contains the items directly where as dictionary contains key and value pair for the items. Also we can access elements in dictionary by using key & values, but for list we can use index numbers. List is ordered. Dictionary is unordered(sometimes may change order). We can use {} syntax to create dictionary and for list we use [ ]."
   ]
  },
  {
   "cell_type": "code",
   "execution_count": 8,
   "id": "e1ad6777",
   "metadata": {},
   "outputs": [
    {
     "data": {
      "text/plain": [
       "{'b': 2, 'a': 1, 'c': 3}"
      ]
     },
     "execution_count": 8,
     "metadata": {},
     "output_type": "execute_result"
    }
   ],
   "source": [
    "lst = [1,2,3,4]\n",
    "dict1 = {'b':2, 'a':1, 'c':3}\n",
    "lst\n",
    "dict1"
   ]
  },
  {
   "cell_type": "markdown",
   "id": "3f7b5bed",
   "metadata": {},
   "source": [
    "#### 4. What happens if you try to access spam[&#39;foo&#39;] if spam is {&#39;bar&#39;: 100}?"
   ]
  },
  {
   "cell_type": "markdown",
   "id": "0002167d",
   "metadata": {},
   "source": [
    "I will get an error if I will try to access spam['foo'] if spam is {'bar':100}"
   ]
  },
  {
   "cell_type": "code",
   "execution_count": 10,
   "id": "a40155ae",
   "metadata": {},
   "outputs": [
    {
     "ename": "KeyError",
     "evalue": "'foo'",
     "output_type": "error",
     "traceback": [
      "\u001b[1;31m---------------------------------------------------------------------------\u001b[0m",
      "\u001b[1;31mKeyError\u001b[0m                                  Traceback (most recent call last)",
      "\u001b[1;32m~\\AppData\\Local\\Temp/ipykernel_4676/4026577702.py\u001b[0m in \u001b[0;36m<module>\u001b[1;34m\u001b[0m\n\u001b[0;32m      1\u001b[0m \u001b[0mspam\u001b[0m \u001b[1;33m=\u001b[0m \u001b[1;33m{\u001b[0m\u001b[1;34m'bar'\u001b[0m\u001b[1;33m:\u001b[0m\u001b[1;36m100\u001b[0m\u001b[1;33m}\u001b[0m\u001b[1;33m\u001b[0m\u001b[1;33m\u001b[0m\u001b[0m\n\u001b[1;32m----> 2\u001b[1;33m \u001b[0mspam\u001b[0m\u001b[1;33m[\u001b[0m\u001b[1;34m'foo'\u001b[0m\u001b[1;33m]\u001b[0m\u001b[1;33m\u001b[0m\u001b[1;33m\u001b[0m\u001b[0m\n\u001b[0m",
      "\u001b[1;31mKeyError\u001b[0m: 'foo'"
     ]
    }
   ],
   "source": [
    "spam = {'bar':100}\n",
    "spam['foo']"
   ]
  },
  {
   "cell_type": "markdown",
   "id": "fbfda840",
   "metadata": {},
   "source": [
    "#### 5. If a dictionary is stored in spam, what is the difference between the expressions &#39;cat&#39; in spam and &#39;cat&#39; in spam.keys()?"
   ]
  },
  {
   "cell_type": "markdown",
   "id": "989dee84",
   "metadata": {},
   "source": [
    "Both will give the same answer, there is no difference."
   ]
  },
  {
   "cell_type": "code",
   "execution_count": 12,
   "id": "e203e676",
   "metadata": {},
   "outputs": [
    {
     "data": {
      "text/plain": [
       "True"
      ]
     },
     "execution_count": 12,
     "metadata": {},
     "output_type": "execute_result"
    }
   ],
   "source": [
    "spam = {'cat':100}\n",
    "'cat' in spam"
   ]
  },
  {
   "cell_type": "code",
   "execution_count": 13,
   "id": "9fc2d8c0",
   "metadata": {},
   "outputs": [
    {
     "data": {
      "text/plain": [
       "True"
      ]
     },
     "execution_count": 13,
     "metadata": {},
     "output_type": "execute_result"
    }
   ],
   "source": [
    "'cat' in spam.keys()"
   ]
  },
  {
   "cell_type": "markdown",
   "id": "7c325357",
   "metadata": {},
   "source": [
    "#### 6. If a dictionary is stored in spam, what is the difference between the expressions &#39;cat&#39; in spam and &#39;cat&#39; in spam.values()?"
   ]
  },
  {
   "cell_type": "markdown",
   "id": "c722ce8e",
   "metadata": {},
   "source": [
    "If cat is key then 'cat' in spam gives 'True' and if it is not key then it will give 'False'. Also if cat is value then for 'cat' in spam.values() it will give True, if not a value then it will give 'False'."
   ]
  },
  {
   "cell_type": "code",
   "execution_count": 15,
   "id": "8e864a41",
   "metadata": {},
   "outputs": [],
   "source": [
    "## both will not same"
   ]
  },
  {
   "cell_type": "code",
   "execution_count": null,
   "id": "d644f5dd",
   "metadata": {},
   "outputs": [],
   "source": [
    "spam = {'cat':100}\n",
    "'cat' in spam"
   ]
  },
  {
   "cell_type": "code",
   "execution_count": 14,
   "id": "7b43f476",
   "metadata": {},
   "outputs": [
    {
     "data": {
      "text/plain": [
       "False"
      ]
     },
     "execution_count": 14,
     "metadata": {},
     "output_type": "execute_result"
    }
   ],
   "source": [
    "'cat' in spam.values()"
   ]
  },
  {
   "cell_type": "markdown",
   "id": "24f7b0f7",
   "metadata": {},
   "source": [
    "#### 7. What is a shortcut for the following code? if &#39;color&#39; not in spam:spam[&#39;color&#39;] = &#39;black&#39;"
   ]
  },
  {
   "cell_type": "markdown",
   "id": "024be8fe",
   "metadata": {},
   "source": [
    "We can use the list comprehenssion"
   ]
  },
  {
   "cell_type": "code",
   "execution_count": 65,
   "id": "528ac424",
   "metadata": {},
   "outputs": [],
   "source": [
    "spam ={'red':25,'white':90,'blue':100}"
   ]
  },
  {
   "cell_type": "code",
   "execution_count": 68,
   "id": "b0fb7464",
   "metadata": {},
   "outputs": [
    {
     "data": {
      "text/plain": [
       "'black'"
      ]
     },
     "execution_count": 68,
     "metadata": {},
     "output_type": "execute_result"
    }
   ],
   "source": [
    "spam.setdefault ('color','black')"
   ]
  },
  {
   "cell_type": "code",
   "execution_count": 69,
   "id": "6bd812c2",
   "metadata": {},
   "outputs": [
    {
     "data": {
      "text/plain": [
       "{'red': 25, 'white': 90, 'blue': 100, 'color': 'black'}"
      ]
     },
     "execution_count": 69,
     "metadata": {},
     "output_type": "execute_result"
    }
   ],
   "source": [
    "spam"
   ]
  },
  {
   "cell_type": "markdown",
   "id": "543e7aac",
   "metadata": {},
   "source": [
    "#### 8. How do you &quot;pretty print&quot; dictionary values using which module and function?"
   ]
  },
  {
   "cell_type": "markdown",
   "id": "cec989ad",
   "metadata": {},
   "source": [
    "question is not understandable."
   ]
  },
  {
   "cell_type": "markdown",
   "id": "00f685a8",
   "metadata": {},
   "source": [
    "We can print the dictionary values using values()."
   ]
  },
  {
   "cell_type": "code",
   "execution_count": 61,
   "id": "083aa5e6",
   "metadata": {},
   "outputs": [
    {
     "name": "stdout",
     "output_type": "stream",
     "text": [
      "Pretty printing has been turned OFF\n"
     ]
    }
   ],
   "source": [
    "## from google\n",
    "pprint().pprint()"
   ]
  },
  {
   "cell_type": "code",
   "execution_count": null,
   "id": "9177aed6",
   "metadata": {},
   "outputs": [],
   "source": []
  }
 ],
 "metadata": {
  "kernelspec": {
   "display_name": "Python 3 (ipykernel)",
   "language": "python",
   "name": "python3"
  },
  "language_info": {
   "codemirror_mode": {
    "name": "ipython",
    "version": 3
   },
   "file_extension": ".py",
   "mimetype": "text/x-python",
   "name": "python",
   "nbconvert_exporter": "python",
   "pygments_lexer": "ipython3",
   "version": "3.9.7"
  }
 },
 "nbformat": 4,
 "nbformat_minor": 5
}
