{
 "cells": [
  {
   "cell_type": "markdown",
   "id": "9a2cea88",
   "metadata": {},
   "source": [
    "### Python Basic assignments-3"
   ]
  },
  {
   "cell_type": "markdown",
   "id": "e1a8b058",
   "metadata": {},
   "source": [
    "#### Q1. Why are functions advantageous to have in your programs?"
   ]
  },
  {
   "cell_type": "markdown",
   "id": "859e9c26",
   "metadata": {},
   "source": [
    "1. Functions are very useful in repeatative tasks.\n",
    "2. They will reduce the time and complexity.\n",
    "3. Helpful in write the modular code, etc"
   ]
  },
  {
   "cell_type": "markdown",
   "id": "27a0ead7",
   "metadata": {},
   "source": [
    "#### 2. When does the code in a function run: when it&#39;s specified or when it&#39;s called?"
   ]
  },
  {
   "cell_type": "markdown",
   "id": "9dbad847",
   "metadata": {},
   "source": [
    "The code in functions runs only if when you called it.\n",
    "for e.g"
   ]
  },
  {
   "cell_type": "code",
   "execution_count": 1,
   "id": "fa41e5d1",
   "metadata": {},
   "outputs": [
    {
     "data": {
      "text/plain": [
       "39"
      ]
     },
     "execution_count": 1,
     "metadata": {},
     "output_type": "execute_result"
    }
   ],
   "source": [
    "def cal(a,b):\n",
    "    return a+b\n",
    "\n",
    "cal(20,19)"
   ]
  },
  {
   "cell_type": "markdown",
   "id": "b3e99e44",
   "metadata": {},
   "source": [
    "#### 3. What statement creates a function?"
   ]
  },
  {
   "cell_type": "markdown",
   "id": "08915fb7",
   "metadata": {},
   "source": [
    "The def statement creates function."
   ]
  },
  {
   "cell_type": "markdown",
   "id": "824c1a61",
   "metadata": {},
   "source": [
    "#### 4. What is the difference between a function and a function call?"
   ]
  },
  {
   "cell_type": "markdown",
   "id": "3d9b7b62",
   "metadata": {},
   "source": [
    "1. When you create a function for something it will useful only when it is called otherwise there is no use of that function.\n",
    "2. In my words function in theory and function call is its practical. or Function is plan and function call is its execution."
   ]
  },
  {
   "cell_type": "markdown",
   "id": "eb15be45",
   "metadata": {},
   "source": [
    "#### 5. How many global scopes are there in a Python program? How many local scopes?"
   ]
  },
  {
   "cell_type": "markdown",
   "id": "00c5f376",
   "metadata": {},
   "source": [
    "Both global and local have only one scope in python. "
   ]
  },
  {
   "cell_type": "markdown",
   "id": "c0235c26",
   "metadata": {},
   "source": [
    "#### 6. What happens to variables in a local scope when the function call returns?"
   ]
  },
  {
   "cell_type": "markdown",
   "id": "55ecdea9",
   "metadata": {},
   "source": [
    "It is not available for use. It will attached only in the function."
   ]
  },
  {
   "cell_type": "markdown",
   "id": "d9af9dcc",
   "metadata": {},
   "source": [
    "#### 7. What is the concept of a return value? Is it possible to have a return value in an expression?"
   ]
  },
  {
   "cell_type": "markdown",
   "id": "6766e21d",
   "metadata": {},
   "source": [
    "1. The return value automatically detects the variable type.\n",
    "2. Return values are available to make further calulations, it is not none type like print.\n",
    "3. We can not use return function in the expression, it is used only for function."
   ]
  },
  {
   "cell_type": "code",
   "execution_count": 8,
   "id": "35e44793",
   "metadata": {},
   "outputs": [
    {
     "ename": "SyntaxError",
     "evalue": "invalid syntax (Temp/ipykernel_844/663268456.py, line 3)",
     "output_type": "error",
     "traceback": [
      "\u001b[1;36m  File \u001b[1;32m\"C:\\Users\\LENOVO\\AppData\\Local\\Temp/ipykernel_844/663268456.py\"\u001b[1;36m, line \u001b[1;32m3\u001b[0m\n\u001b[1;33m    c = return a + b\u001b[0m\n\u001b[1;37m        ^\u001b[0m\n\u001b[1;31mSyntaxError\u001b[0m\u001b[1;31m:\u001b[0m invalid syntax\n"
     ]
    }
   ],
   "source": [
    "a = 10\n",
    "b = 11\n",
    "c = return a + b"
   ]
  },
  {
   "cell_type": "markdown",
   "id": "5c067987",
   "metadata": {},
   "source": [
    "#### 8. If a function does not have a return statement, what is the return value of a call to that function?"
   ]
  },
  {
   "cell_type": "markdown",
   "id": "bf6b20e0",
   "metadata": {},
   "source": [
    "If the function does not have the return statement then it will not give any return value when we call it or gives none type."
   ]
  },
  {
   "cell_type": "code",
   "execution_count": 5,
   "id": "21cdfe62",
   "metadata": {},
   "outputs": [
    {
     "name": "stdout",
     "output_type": "stream",
     "text": [
      "None\n"
     ]
    }
   ],
   "source": [
    "# e.g.\n",
    "def ag(a,b):\n",
    "    a+b\n",
    "print(ag(2,3))"
   ]
  },
  {
   "cell_type": "markdown",
   "id": "db700b67",
   "metadata": {},
   "source": [
    "#### 9. How do you make a function variable refer to the global variable?"
   ]
  },
  {
   "cell_type": "markdown",
   "id": "ee5b9687",
   "metadata": {},
   "source": [
    "We can usr the global keyword within the function to make function variable refer to the global variable."
   ]
  },
  {
   "cell_type": "code",
   "execution_count": 13,
   "id": "edb50127",
   "metadata": {},
   "outputs": [
    {
     "name": "stdout",
     "output_type": "stream",
     "text": [
      "678\n",
      "678\n"
     ]
    }
   ],
   "source": [
    "# for e.g.\n",
    "glob_var = 0\n",
    "def var_1():\n",
    "    global glob_var\n",
    "    glob_var = 678\n",
    "    print(glob_var)\n",
    "    \n",
    "var_1()\n",
    "\n",
    "print(glob_var)"
   ]
  },
  {
   "cell_type": "code",
   "execution_count": 14,
   "id": "d0797d5e",
   "metadata": {},
   "outputs": [
    {
     "name": "stdout",
     "output_type": "stream",
     "text": [
      "678\n",
      "330\n"
     ]
    }
   ],
   "source": [
    "# for e.g.\n",
    "glob_var1 = 330\n",
    "def var_2():\n",
    "    #global glob_var\n",
    "    glob_var1 = 678\n",
    "    print(glob_var1)\n",
    "    \n",
    "var_2()\n",
    "print(glob_var1)"
   ]
  },
  {
   "cell_type": "markdown",
   "id": "7af3ac4d",
   "metadata": {},
   "source": [
    "#### 10. What is the data type of None?"
   ]
  },
  {
   "cell_type": "markdown",
   "id": "1930e8ac",
   "metadata": {},
   "source": [
    "The data type none meaning is no value. This value can not be used for other operations like addition, subtraction, etc."
   ]
  },
  {
   "cell_type": "code",
   "execution_count": 23,
   "id": "363603bd",
   "metadata": {},
   "outputs": [
    {
     "name": "stdout",
     "output_type": "stream",
     "text": [
      "100\n"
     ]
    },
    {
     "data": {
      "text/plain": [
       "NoneType"
      ]
     },
     "execution_count": 23,
     "metadata": {},
     "output_type": "execute_result"
    }
   ],
   "source": [
    "# for e.g. \n",
    "\n",
    "def df():\n",
    "    print(100)\n",
    "type(df())"
   ]
  },
  {
   "cell_type": "code",
   "execution_count": 24,
   "id": "a4e99827",
   "metadata": {},
   "outputs": [
    {
     "data": {
      "text/plain": [
       "int"
      ]
     },
     "execution_count": 24,
     "metadata": {},
     "output_type": "execute_result"
    }
   ],
   "source": [
    "# here \n",
    "def df1():\n",
    "    return 20\n",
    "type(df1()+100) ## same thing can not used for the earlier function df()"
   ]
  },
  {
   "cell_type": "markdown",
   "id": "356fc6b3",
   "metadata": {},
   "source": [
    "#### 11. What does the sentence import areallyourpetsnamederic do?"
   ]
  },
  {
   "cell_type": "markdown",
   "id": "76a7f804",
   "metadata": {},
   "source": [
    "The sentence 'import areallyourpetsnamederic' is used to import the library 'areallyourpetsnamederic'."
   ]
  },
  {
   "cell_type": "markdown",
   "id": "e67cc223",
   "metadata": {},
   "source": [
    "#### 12. If you had a bacon() feature in a spam module, what would you call it after importing spam?"
   ]
  },
  {
   "cell_type": "markdown",
   "id": "4597cc5f",
   "metadata": {},
   "source": [
    "To use the bacon() featur in spam module, first we need to import spam maodule and then we have to call the bacon(). To use bacon() feature we need to call it."
   ]
  },
  {
   "cell_type": "markdown",
   "id": "78c28cdc",
   "metadata": {},
   "source": [
    "#### 13. What can you do to save a programme from crashing if it encounters an error?"
   ]
  },
  {
   "cell_type": "markdown",
   "id": "8a6426fa",
   "metadata": {},
   "source": [
    "We can use exception handeling for to save programme from crashing it it encounters an error.(except block)"
   ]
  },
  {
   "cell_type": "markdown",
   "id": "05d357d0",
   "metadata": {},
   "source": [
    "#### 14. What is the purpose of the try clause? What is the purpose of the except clause?"
   ]
  },
  {
   "cell_type": "markdown",
   "id": "ffc741e9",
   "metadata": {},
   "source": [
    "try is used to test the code and if the code gives an error this will handeled by the except."
   ]
  }
 ],
 "metadata": {
  "kernelspec": {
   "display_name": "Python 3 (ipykernel)",
   "language": "python",
   "name": "python3"
  },
  "language_info": {
   "codemirror_mode": {
    "name": "ipython",
    "version": 3
   },
   "file_extension": ".py",
   "mimetype": "text/x-python",
   "name": "python",
   "nbconvert_exporter": "python",
   "pygments_lexer": "ipython3",
   "version": "3.9.7"
  }
 },
 "nbformat": 4,
 "nbformat_minor": 5
}
