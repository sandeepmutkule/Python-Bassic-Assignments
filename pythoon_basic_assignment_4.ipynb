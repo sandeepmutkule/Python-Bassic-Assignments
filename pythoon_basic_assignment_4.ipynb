{
 "cells": [
  {
   "cell_type": "markdown",
   "id": "e501d7a3",
   "metadata": {},
   "source": [
    "### Python Basic assignments-4"
   ]
  },
  {
   "cell_type": "markdown",
   "id": "0bd9360c",
   "metadata": {},
   "source": [
    "#### 1. What exactly is []?"
   ]
  },
  {
   "cell_type": "markdown",
   "id": "98858ec2",
   "metadata": {},
   "source": [
    "[ ] is mainly used to to create list. Also it can be used to list comprehension."
   ]
  },
  {
   "cell_type": "code",
   "execution_count": 10,
   "id": "bb4b29a7",
   "metadata": {},
   "outputs": [
    {
     "name": "stdout",
     "output_type": "stream",
     "text": [
      "<class 'list'>\n",
      "<class 'list'>\n"
     ]
    }
   ],
   "source": [
    "# for e.g.\n",
    "lst = ['the','this', 'they']\n",
    "print(type(lst))\n",
    "print(type([2,3,4,5]))"
   ]
  },
  {
   "cell_type": "markdown",
   "id": "6ea85a97",
   "metadata": {},
   "source": [
    "#### 2. In a list of values stored in a variable called spam, how would you assign the value & #39;hello&#39; as the third value? (Assume [2, 4, 6, 8, 10] are in spam.)"
   ]
  },
  {
   "cell_type": "code",
   "execution_count": 11,
   "id": "9a35ac3f",
   "metadata": {},
   "outputs": [
    {
     "data": {
      "text/plain": [
       "[2, 4, 'hello', 8, 10]"
      ]
     },
     "execution_count": 11,
     "metadata": {},
     "output_type": "execute_result"
    }
   ],
   "source": [
    "# we can add values to list as,\n",
    "spam = [2, 4, 6, 8, 10]\n",
    "spam[2] = \"hello\"\n",
    "spam"
   ]
  },
  {
   "cell_type": "markdown",
   "id": "5325e85f",
   "metadata": {},
   "source": [
    "#### Let&#39;s pretend the spam includes the list [&#39;a&#39;, &#39;b&#39;, &#39;c&#39;, &#39;d&#39;] for the next three queries."
   ]
  },
  {
   "cell_type": "code",
   "execution_count": 13,
   "id": "9ada8e14",
   "metadata": {},
   "outputs": [
    {
     "data": {
      "text/plain": [
       "['a', 'b', 'c', 'd']"
      ]
     },
     "execution_count": 13,
     "metadata": {},
     "output_type": "execute_result"
    }
   ],
   "source": [
    "spam = ['a','b','c','d']\n",
    "spam"
   ]
  },
  {
   "cell_type": "markdown",
   "id": "cc41bff8",
   "metadata": {},
   "source": [
    "#### 3. What is the value of spam[int(int(&#39;3&#39; * 2) / 11)]?"
   ]
  },
  {
   "cell_type": "code",
   "execution_count": 39,
   "id": "0c94d691",
   "metadata": {},
   "outputs": [
    {
     "name": "stdout",
     "output_type": "stream",
     "text": [
      "33\n"
     ]
    }
   ],
   "source": [
    "# int('3'*2) gives 33 and then divide by 11 gives 3 it becomes spam[3]\n",
    "print(int('3'*2))"
   ]
  },
  {
   "cell_type": "markdown",
   "id": "e4c05304",
   "metadata": {},
   "source": [
    "spam[3] gives the 'd'"
   ]
  },
  {
   "cell_type": "markdown",
   "id": "255a9ea0",
   "metadata": {},
   "source": [
    "#### 4. What is the value of spam[-1]?"
   ]
  },
  {
   "cell_type": "markdown",
   "id": "38a5bc27",
   "metadata": {},
   "source": [
    "it will give the last element from the list spam."
   ]
  },
  {
   "cell_type": "code",
   "execution_count": 40,
   "id": "fc0c4e69",
   "metadata": {},
   "outputs": [
    {
     "data": {
      "text/plain": [
       "'d'"
      ]
     },
     "execution_count": 40,
     "metadata": {},
     "output_type": "execute_result"
    }
   ],
   "source": [
    "spam[-1]"
   ]
  },
  {
   "cell_type": "markdown",
   "id": "ff22c60b",
   "metadata": {},
   "source": [
    "#### 5. What is the value of spam[:2]? "
   ]
  },
  {
   "cell_type": "markdown",
   "id": "3c2b4dfa",
   "metadata": {},
   "source": [
    "It gives the all the element up to index two (exclude the last index). Python start with 0. this will give 'a','b' only."
   ]
  },
  {
   "cell_type": "code",
   "execution_count": 42,
   "id": "e6a0d41f",
   "metadata": {},
   "outputs": [
    {
     "data": {
      "text/plain": [
       "['a', 'b']"
      ]
     },
     "execution_count": 42,
     "metadata": {},
     "output_type": "execute_result"
    }
   ],
   "source": [
    "spam[:2]"
   ]
  },
  {
   "cell_type": "markdown",
   "id": "c68ddcc8",
   "metadata": {},
   "source": [
    "#### Let&#39;s pretend bacon has the list [3.14, &#39;cat,&#39; 11, &#39;cat,&#39; True] for the next three questions."
   ]
  },
  {
   "cell_type": "code",
   "execution_count": 49,
   "id": "4a809f43",
   "metadata": {},
   "outputs": [
    {
     "data": {
      "text/plain": [
       "[3.14, 'cat', 11, 'cat', True]"
      ]
     },
     "execution_count": 49,
     "metadata": {},
     "output_type": "execute_result"
    }
   ],
   "source": [
    "bacon = [3.14, 'cat', 11, 'cat',True]\n",
    "bacon"
   ]
  },
  {
   "cell_type": "markdown",
   "id": "25589d29",
   "metadata": {},
   "source": [
    "#### 6. What is the value of bacon.index(&#39;cat&#39;)?"
   ]
  },
  {
   "cell_type": "markdown",
   "id": "0a456d22",
   "metadata": {},
   "source": [
    "bacon.index('cat') gives the index number where the \"cat\" is present in the list bacon."
   ]
  },
  {
   "cell_type": "code",
   "execution_count": 50,
   "id": "3abe7de4",
   "metadata": {},
   "outputs": [
    {
     "data": {
      "text/plain": [
       "1"
      ]
     },
     "execution_count": 50,
     "metadata": {},
     "output_type": "execute_result"
    }
   ],
   "source": [
    "bacon.index('cat') # here the cat is present at 2nd & 4th position but python will only give the fisrt time search."
   ]
  },
  {
   "cell_type": "markdown",
   "id": "69203a5b",
   "metadata": {},
   "source": [
    "#### 7. How does bacon.append(99) change the look of the list value in bacon?"
   ]
  },
  {
   "cell_type": "markdown",
   "id": "9a50bced",
   "metadata": {},
   "source": [
    "bacon.append(99) will add the value 99 to the bacon list at last."
   ]
  },
  {
   "cell_type": "code",
   "execution_count": 51,
   "id": "1181c9d8",
   "metadata": {},
   "outputs": [
    {
     "data": {
      "text/plain": [
       "[3.14, 'cat', 11, 'cat', True, 99]"
      ]
     },
     "execution_count": 51,
     "metadata": {},
     "output_type": "execute_result"
    }
   ],
   "source": [
    "bacon.append(99)\n",
    "bacon"
   ]
  },
  {
   "cell_type": "markdown",
   "id": "b2515e74",
   "metadata": {},
   "source": [
    "#### 8. How does bacon.remove(&#39;cat&#39;) change the look of the list in bacon?"
   ]
  },
  {
   "cell_type": "markdown",
   "id": "c75a01df",
   "metadata": {},
   "source": [
    "bacon.remove('cat') will remove the 'cat' from the list. This will remove the first instance of the \"cat\" not all 'cat' strings."
   ]
  },
  {
   "cell_type": "code",
   "execution_count": 52,
   "id": "eac0fb51",
   "metadata": {},
   "outputs": [
    {
     "data": {
      "text/plain": [
       "[3.14, 11, 'cat', True, 99]"
      ]
     },
     "execution_count": 52,
     "metadata": {},
     "output_type": "execute_result"
    }
   ],
   "source": [
    "bacon.remove('cat')\n",
    "bacon"
   ]
  },
  {
   "cell_type": "markdown",
   "id": "013a50f6",
   "metadata": {},
   "source": [
    "#### 9. What are the list concatenation and list replication operators?"
   ]
  },
  {
   "cell_type": "markdown",
   "id": "ee1570de",
   "metadata": {},
   "source": [
    "concatenation is the adding two lists, to add two list we can use + operator.\n",
    "for the replication we use * operator to replicte multiple lists."
   ]
  },
  {
   "cell_type": "code",
   "execution_count": 57,
   "id": "9577edaf",
   "metadata": {},
   "outputs": [
    {
     "data": {
      "text/plain": [
       "[22, 23, 'ah', 'df']"
      ]
     },
     "execution_count": 57,
     "metadata": {},
     "output_type": "execute_result"
    }
   ],
   "source": [
    "[22,23] + ['ah','df']"
   ]
  },
  {
   "cell_type": "code",
   "execution_count": 58,
   "id": "aeaa0705",
   "metadata": {},
   "outputs": [
    {
     "data": {
      "text/plain": [
       "[3.14, 11, 'cat', True, 99, 3.14, 11, 'cat', True, 99]"
      ]
     },
     "execution_count": 58,
     "metadata": {},
     "output_type": "execute_result"
    }
   ],
   "source": [
    "bacon * 2"
   ]
  },
  {
   "cell_type": "markdown",
   "id": "f8422e2e",
   "metadata": {},
   "source": [
    "#### 10. What is difference between the list methods append() and insert()?"
   ]
  },
  {
   "cell_type": "markdown",
   "id": "4fb492ba",
   "metadata": {},
   "source": [
    "Both are used for the adding elements to the list. append add the element at last index of the list. where as insert gives the convinience to add element at specific position."
   ]
  },
  {
   "cell_type": "code",
   "execution_count": 60,
   "id": "e932424b",
   "metadata": {},
   "outputs": [
    {
     "data": {
      "text/plain": [
       "[3.14, 11, 'cat', True, 99, 'she']"
      ]
     },
     "execution_count": 60,
     "metadata": {},
     "output_type": "execute_result"
    }
   ],
   "source": [
    "bacon.append('she')\n",
    "bacon"
   ]
  },
  {
   "cell_type": "code",
   "execution_count": 69,
   "id": "7b629fe4",
   "metadata": {},
   "outputs": [
    {
     "data": {
      "text/plain": [
       "[3.14, 11, 'her', 'cat', True, 99, 'she']"
      ]
     },
     "execution_count": 69,
     "metadata": {},
     "output_type": "execute_result"
    }
   ],
   "source": [
    "bacon.insert(2,'her')# index number to add value\n",
    "bacon"
   ]
  },
  {
   "cell_type": "markdown",
   "id": "33cee60f",
   "metadata": {},
   "source": [
    "#### 11. What are the two methods for removing items from a list?"
   ]
  },
  {
   "cell_type": "markdown",
   "id": "bc82a3af",
   "metadata": {},
   "source": [
    "remove() and pop() are used to removing the items from the list."
   ]
  },
  {
   "cell_type": "code",
   "execution_count": 70,
   "id": "ceb27b0c",
   "metadata": {},
   "outputs": [
    {
     "data": {
      "text/plain": [
       "[3.14, 11, 'her', 'cat', True, 99]"
      ]
     },
     "execution_count": 70,
     "metadata": {},
     "output_type": "execute_result"
    }
   ],
   "source": [
    "bacon.remove('she')\n",
    "bacon"
   ]
  },
  {
   "cell_type": "code",
   "execution_count": 71,
   "id": "b1aca800",
   "metadata": {},
   "outputs": [
    {
     "data": {
      "text/plain": [
       "[3.14, 11, 'cat', True, 99]"
      ]
     },
     "execution_count": 71,
     "metadata": {},
     "output_type": "execute_result"
    }
   ],
   "source": [
    "bacon.pop(2)\n",
    "bacon"
   ]
  },
  {
   "cell_type": "markdown",
   "id": "452ca788",
   "metadata": {},
   "source": [
    "#### 12. Describe how list values and string values are identical."
   ]
  },
  {
   "cell_type": "markdown",
   "id": "4443b8b7",
   "metadata": {},
   "source": [
    "list can contain string item. but string can not contain the list it has only charactors.\n",
    "List is mutable. \n",
    "String is not mutable."
   ]
  },
  {
   "cell_type": "code",
   "execution_count": 72,
   "id": "8a2e70c7",
   "metadata": {},
   "outputs": [
    {
     "data": {
      "text/plain": [
       "['sss', 23, 34]"
      ]
     },
     "execution_count": 72,
     "metadata": {},
     "output_type": "execute_result"
    }
   ],
   "source": [
    "['sss',23,34]"
   ]
  },
  {
   "cell_type": "code",
   "execution_count": 73,
   "id": "0e8890dd",
   "metadata": {},
   "outputs": [
    {
     "data": {
      "text/plain": [
       "'this is python'"
      ]
     },
     "execution_count": 73,
     "metadata": {},
     "output_type": "execute_result"
    }
   ],
   "source": [
    "'this is python'"
   ]
  },
  {
   "cell_type": "markdown",
   "id": "44f690b7",
   "metadata": {},
   "source": [
    "#### 13. What&#39;s the difference between tuples and lists?"
   ]
  },
  {
   "cell_type": "markdown",
   "id": "1cb66106",
   "metadata": {},
   "source": [
    "List : is mutable and we use [] syntax to create list. Tuples : are immutable and it has () syntax to create it.\n",
    "the items of the tuple can not be changed but for the list it is possible."
   ]
  },
  {
   "cell_type": "code",
   "execution_count": 82,
   "id": "e77c561d",
   "metadata": {},
   "outputs": [
    {
     "name": "stdout",
     "output_type": "stream",
     "text": [
      "<class 'list'>\n",
      "<class 'tuple'>\n"
     ]
    }
   ],
   "source": [
    "lst = ['th',2,4,5]\n",
    "tup = ('23','23',45)\n",
    "print(type(lst))\n",
    "print(type(tup))"
   ]
  },
  {
   "cell_type": "markdown",
   "id": "f4fded8c",
   "metadata": {},
   "source": [
    "#### 14. How do you type a tuple value that only contains the integer 42?"
   ]
  },
  {
   "cell_type": "code",
   "execution_count": 86,
   "id": "cd23a30d",
   "metadata": {},
   "outputs": [
    {
     "name": "stdout",
     "output_type": "stream",
     "text": [
      "<class 'int'> 42\n"
     ]
    }
   ],
   "source": [
    "tup = (42)\n",
    "print(type(tup),tup)"
   ]
  },
  {
   "cell_type": "markdown",
   "id": "a1f0ad61",
   "metadata": {},
   "source": [
    "#### 15. How do you get a list value&#39;s tuple form? How do you get a tuple value&#39;s list form?"
   ]
  },
  {
   "cell_type": "markdown",
   "id": "f531f2d9",
   "metadata": {},
   "source": [
    "we can convert the list to tuple and viceversa."
   ]
  },
  {
   "cell_type": "code",
   "execution_count": 88,
   "id": "f1ffa682",
   "metadata": {},
   "outputs": [
    {
     "name": "stdout",
     "output_type": "stream",
     "text": [
      "<class 'list'>\n",
      "<class 'tuple'>\n"
     ]
    }
   ],
   "source": [
    "lst = [23,33,45,67]\n",
    "tup = ('this','is','python')\n",
    "print(type(lst))\n",
    "print(type(tup))"
   ]
  },
  {
   "cell_type": "code",
   "execution_count": 89,
   "id": "9504ccee",
   "metadata": {},
   "outputs": [
    {
     "name": "stdout",
     "output_type": "stream",
     "text": [
      "<class 'tuple'>\n",
      "<class 'list'>\n"
     ]
    }
   ],
   "source": [
    "lst = tuple(lst)\n",
    "tup = list(tup)\n",
    "print(type(lst))\n",
    "print(type(tup))"
   ]
  },
  {
   "cell_type": "markdown",
   "id": "a77b6c3a",
   "metadata": {},
   "source": [
    "#### 16. Variables that &quot;contain&quot; list values are not necessarily lists themselves. Instead, what do they contain?"
   ]
  },
  {
   "cell_type": "markdown",
   "id": "e166886b",
   "metadata": {},
   "source": [
    "variables can contain string, integer, dictionary,etc. (not understood the exact question meaning.)"
   ]
  },
  {
   "cell_type": "markdown",
   "id": "e70f89e4",
   "metadata": {},
   "source": [
    "#### 17. How do you distinguish between copy.copy() and copy.deepcopy()?"
   ]
  },
  {
   "cell_type": "markdown",
   "id": "13890180",
   "metadata": {},
   "source": [
    "Shallow copy creates the new memory locations for both original and copied objects but for the nested list it reflect the changes made in original object to copied object. Deep copy creates the new memory locations for both original and copied objects."
   ]
  }
 ],
 "metadata": {
  "kernelspec": {
   "display_name": "Python 3 (ipykernel)",
   "language": "python",
   "name": "python3"
  },
  "language_info": {
   "codemirror_mode": {
    "name": "ipython",
    "version": 3
   },
   "file_extension": ".py",
   "mimetype": "text/x-python",
   "name": "python",
   "nbconvert_exporter": "python",
   "pygments_lexer": "ipython3",
   "version": "3.9.7"
  }
 },
 "nbformat": 4,
 "nbformat_minor": 5
}
